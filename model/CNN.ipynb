{
  "nbformat": 4,
  "nbformat_minor": 0,
  "metadata": {
    "colab": {
      "provenance": [],
      "authorship_tag": "ABX9TyM1/0OBRwWbO4kbaNQDOkcw",
      "include_colab_link": true
    },
    "kernelspec": {
      "name": "python3",
      "display_name": "Python 3"
    },
    "language_info": {
      "name": "python"
    }
  },
  "cells": [
    {
      "cell_type": "markdown",
      "metadata": {
        "id": "view-in-github",
        "colab_type": "text"
      },
      "source": [
        "<a href=\"https://colab.research.google.com/github/castlechoi/stock-forecasting/blob/main/model/CNN.ipynb\" target=\"_parent\"><img src=\"https://colab.research.google.com/assets/colab-badge.svg\" alt=\"Open In Colab\"/></a>"
      ]
    },
    {
      "cell_type": "code",
      "execution_count": 1,
      "metadata": {
        "colab": {
          "base_uri": "https://localhost:8080/",
          "height": 137
        },
        "id": "MFjBHOYZlXur",
        "outputId": "fb5abf4d-53d3-4056-9451-c5d633d4cfaa"
      },
      "outputs": [
        {
          "output_type": "error",
          "ename": "SyntaxError",
          "evalue": "ignored",
          "traceback": [
            "\u001b[0;36m  File \u001b[0;32m\"<ipython-input-1-56046e7eab2b>\"\u001b[0;36m, line \u001b[0;32m14\u001b[0m\n\u001b[0;31m    stride = 1, padding = 0, bias = True)\u001b[0m\n\u001b[0m    ^\u001b[0m\n\u001b[0;31mSyntaxError\u001b[0m\u001b[0;31m:\u001b[0m invalid syntax\n"
          ]
        }
      ],
      "source": [
        "import torch\n",
        "import torch.nn as nn\n",
        "\n",
        "class CNN(nn.Module):\n",
        "  def __init__(self,input_channel,output_channel,kernel_size):\n",
        "    super(CNN,self).__init__()\n",
        "    self.in_channels = input_channels\n",
        "    self.out_channels = output_channels\n",
        "    self.kernel_size = kernel_size\n",
        "  \n",
        "  #input mnist\n",
        "  #28 * 28\n",
        "  self.cnn = nn.Conv2d(in_channels = in_channels, out_channels = out_channels, kernel_size = kernel_size\n",
        "                       stride = 1, padding = 0, bias = True)\n",
        "  #if kernel size = 3\n",
        "  #\n",
        "  self.relu = nn.ReLU()\n",
        "  self.max_pool = nn.MaxPool2d(kernel_size = 2, stride = 2)\n",
        "\n",
        "  self.fc = nn.Linear(28*28,10)\n",
        "\n",
        "  def forward(self,x):\n",
        "    out = self.cnn(x)\n",
        "    out = out.view(out.size(0),-1) #flatten\n",
        "    out = self.fc(out)\n",
        "    return out"
      ]
    }
  ]
}